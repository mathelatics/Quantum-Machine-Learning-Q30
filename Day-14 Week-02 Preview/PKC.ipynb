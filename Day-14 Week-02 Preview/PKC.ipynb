{
 "cells": [
  {
   "cell_type": "markdown",
   "metadata": {},
   "source": [
    "# Public Key Cryptography\n",
    "Approximately all algorithms in this category are based on the three mathematical concepts\n",
    "- Prime Facterisation of Integers\n",
    "- Discrete Logrithms\n",
    "- Elliptic Curves "
   ]
  },
  {
   "cell_type": "code",
   "execution_count": 1,
   "metadata": {},
   "outputs": [],
   "source": [
    "def mod_exp(base, exponent, modulus):\n",
    "    result = 1 \n",
    "    while exponent > 0:\n",
    "        if exponent % 2 == 1:\n",
    "            result = (result * base) % modulus\n",
    "        exponent = exponent // 2\n",
    "        base = (base * base) % modulus\n",
    "    return result\n",
    "        "
   ]
  },
  {
   "cell_type": "code",
   "execution_count": 4,
   "metadata": {},
   "outputs": [
    {
     "data": {
      "text/plain": [
       "3"
      ]
     },
     "execution_count": 4,
     "metadata": {},
     "output_type": "execute_result"
    }
   ],
   "source": [
    "mod_exp(10, 25, 7)"
   ]
  },
  {
   "cell_type": "code",
   "execution_count": 5,
   "metadata": {},
   "outputs": [],
   "source": [
    "def diffie_hellman(p, g, private_key):\n",
    "    public_key = mod_exp(g, private_key, p)\n",
    "    return public_key"
   ]
  },
  {
   "cell_type": "code",
   "execution_count": 6,
   "metadata": {},
   "outputs": [
    {
     "data": {
      "text/plain": [
       "13"
      ]
     },
     "execution_count": 6,
     "metadata": {},
     "output_type": "execute_result"
    }
   ],
   "source": [
    "diffie_hellman(23, 9, 8)"
   ]
  },
  {
   "cell_type": "code",
   "execution_count": 7,
   "metadata": {},
   "outputs": [],
   "source": [
    "def shared_secret(p, public_key, private_key):\n",
    "    secret = mod_exp(public_key, private_key, p)\n",
    "    return secret"
   ]
  },
  {
   "cell_type": "code",
   "execution_count": 9,
   "metadata": {},
   "outputs": [
    {
     "data": {
      "text/plain": [
       "2"
      ]
     },
     "execution_count": 9,
     "metadata": {},
     "output_type": "execute_result"
    }
   ],
   "source": [
    "shared_secret(23, 13, 8)"
   ]
  },
  {
   "cell_type": "code",
   "execution_count": 10,
   "metadata": {},
   "outputs": [],
   "source": [
    "# shared prime number and primitives root modulo\n",
    "p = 23 \n",
    "g = 5\n",
    "\n",
    "# Private Keys for the Alice and Bob\n",
    "private_key_alice = 6\n",
    "private_key_bob = 15\n",
    "\n",
    "# Alice's and Bob's Public Key\n",
    "public_key_alice = diffie_hellman(p, g, private_key_alice)\n",
    "public_key_bob = diffie_hellman(p, g, private_key_bob)\n"
   ]
  },
  {
   "cell_type": "code",
   "execution_count": 11,
   "metadata": {},
   "outputs": [],
   "source": [
    "shared_secret_alice = shared_secret(p, public_key_alice, private_key_alice)\n",
    "shared_secret_bob = shared_secret(p, public_key_bob, private_key_bob)"
   ]
  },
  {
   "cell_type": "code",
   "execution_count": 12,
   "metadata": {},
   "outputs": [
    {
     "name": "stdout",
     "output_type": "stream",
     "text": [
      "Shared Secret of Alice :  13\n"
     ]
    }
   ],
   "source": [
    "print(\"Shared Secret of Alice : \", shared_secret_alice)"
   ]
  },
  {
   "cell_type": "code",
   "execution_count": 13,
   "metadata": {},
   "outputs": [
    {
     "name": "stdout",
     "output_type": "stream",
     "text": [
      "Shared secret of Bob :  20\n"
     ]
    }
   ],
   "source": [
    "print(\"Shared secret of Bob : \", shared_secret_bob)"
   ]
  },
  {
   "cell_type": "code",
   "execution_count": 4,
   "metadata": {},
   "outputs": [],
   "source": [
    "# Elliptic Curve Parameters (secp256r1)\n",
    "p = 0xFFFFFFFF00000001000000000000000000000000FFFFFFFFFFFFFFFFFFFFFFFF\n",
    "a = 0xFFFFFFFF00000001000000000000000000000000FFFFFFFFFFFFFFFFFFFFFFFC\n",
    "b = 0x5AC635D8AA3A93E7B3EBBD55769886BC651D06B0CC53B0F63BCE3C3E27D2604B\n",
    "Gx = 0x6B17D1F2E12C4247F8BCE6E563A440F277037D812DEB33A0F4A13945D898C296\n",
    "Gy = 0x4FE342E2FE1A7F9B8EE7EB4A7C0F9E162BCE33576B315ECECBB6406837BF51F5\n"
   ]
  },
  {
   "cell_type": "code",
   "execution_count": 5,
   "metadata": {},
   "outputs": [],
   "source": [
    "\n",
    "# Point class for representing points on the elliptic curve\n",
    "class Point:\n",
    "    def __init__(self, x, y):\n",
    "        self.x = x\n",
    "        self.y = y\n",
    "\n",
    "# Elliptic curve addition\n",
    "def point_add(p, q):\n",
    "    if p is None:\n",
    "        return q\n",
    "    if q is None:\n",
    "        return p\n",
    "    if p.x == q.x and p.y != q.y:\n",
    "        return None\n",
    "    if p != q:\n",
    "        slope = (q.y - p.y) * pow(q.x - p.x, -1, p)\n",
    "    else:\n",
    "        slope = (3 * p.x * p.x + a) * pow(2 * p.y, -1, p)\n",
    "    x = (slope * slope - p.x - q.x) % p\n",
    "    y = (slope * (p.x - x) - p.y) % p\n",
    "    return Point(x, y)\n"
   ]
  },
  {
   "cell_type": "code",
   "execution_count": 12,
   "metadata": {},
   "outputs": [
    {
     "name": "stdout",
     "output_type": "stream",
     "text": [
      "<__main__.Point object at 0x000001680CBE0450>\n"
     ]
    }
   ],
   "source": [
    "print(Point(23, 29))\n"
   ]
  },
  {
   "cell_type": "code",
   "execution_count": 15,
   "metadata": {},
   "outputs": [],
   "source": [
    "def mod_inverse(a, m):\n",
    "    # Extended Euclidean algorithm to compute the modular inverse\n",
    "    if m == 0:\n",
    "        raise ValueError(\"Modulus cannot be zero\")\n",
    "    if a < 0:\n",
    "        a = a % m\n",
    "    g, x, y = extended_gcd(a, m)\n",
    "    if g != 1:\n",
    "        raise ValueError(\"Modular inverse does not exist\")\n",
    "    return x % m\n",
    "\n",
    "def extended_gcd(a, b):\n",
    "    if a == 0:\n",
    "        return b, 0, 1\n",
    "    gcd, x1, y1 = extended_gcd(b % a, a)\n",
    "    x = y1 - (b // a) * x1\n",
    "    y = x1\n",
    "    return gcd, x, y"
   ]
  },
  {
   "cell_type": "code",
   "execution_count": 16,
   "metadata": {},
   "outputs": [
    {
     "ename": "TypeError",
     "evalue": "unsupported operand type(s) for %: 'Point' and 'int'",
     "output_type": "error",
     "traceback": [
      "\u001b[1;31m---------------------------------------------------------------------------\u001b[0m",
      "\u001b[1;31mTypeError\u001b[0m                                 Traceback (most recent call last)",
      "Cell \u001b[1;32mIn[16], line 39\u001b[0m\n\u001b[0;32m     36\u001b[0m bob_private_key \u001b[39m=\u001b[39m \u001b[39m987654321\u001b[39m\n\u001b[0;32m     38\u001b[0m \u001b[39m# Compute public keys for Alice and Bob\u001b[39;00m\n\u001b[1;32m---> 39\u001b[0m alice_public_key \u001b[39m=\u001b[39m point_mult(alice_private_key, Point(Gx, Gy))\n\u001b[0;32m     40\u001b[0m bob_public_key \u001b[39m=\u001b[39m point_mult(bob_private_key, Point(Gx, Gy))\n\u001b[0;32m     42\u001b[0m \u001b[39m# Compute shared secret for Alice and Bob\u001b[39;00m\n",
      "Cell \u001b[1;32mIn[16], line 30\u001b[0m, in \u001b[0;36mpoint_mult\u001b[1;34m(k, p)\u001b[0m\n\u001b[0;32m     28\u001b[0m     \u001b[39mif\u001b[39;00m k \u001b[39m&\u001b[39m \u001b[39m1\u001b[39m:\n\u001b[0;32m     29\u001b[0m         result \u001b[39m=\u001b[39m point_add(result, addend)\n\u001b[1;32m---> 30\u001b[0m     addend \u001b[39m=\u001b[39m point_add(addend, addend)\n\u001b[0;32m     31\u001b[0m     k \u001b[39m>>\u001b[39m\u001b[39m=\u001b[39m \u001b[39m1\u001b[39m\n\u001b[0;32m     32\u001b[0m \u001b[39mreturn\u001b[39;00m result\n",
      "Cell \u001b[1;32mIn[16], line 18\u001b[0m, in \u001b[0;36mpoint_add\u001b[1;34m(p, q)\u001b[0m\n\u001b[0;32m     16\u001b[0m     slope \u001b[39m=\u001b[39m (q\u001b[39m.\u001b[39my \u001b[39m-\u001b[39m p\u001b[39m.\u001b[39my) \u001b[39m*\u001b[39m mod_inverse(q\u001b[39m.\u001b[39mx \u001b[39m-\u001b[39m p\u001b[39m.\u001b[39mx, p)  \u001b[39m# Use mod_inverse\u001b[39;00m\n\u001b[0;32m     17\u001b[0m \u001b[39melse\u001b[39;00m:\n\u001b[1;32m---> 18\u001b[0m     slope \u001b[39m=\u001b[39m (\u001b[39m3\u001b[39m \u001b[39m*\u001b[39m p\u001b[39m.\u001b[39mx \u001b[39m*\u001b[39m p\u001b[39m.\u001b[39mx \u001b[39m+\u001b[39m a) \u001b[39m*\u001b[39m mod_inverse(\u001b[39m2\u001b[39;49m \u001b[39m*\u001b[39;49m p\u001b[39m.\u001b[39;49my, p)  \u001b[39m# Use mod_inverse\u001b[39;00m\n\u001b[0;32m     19\u001b[0m x \u001b[39m=\u001b[39m (slope \u001b[39m*\u001b[39m slope \u001b[39m-\u001b[39m p\u001b[39m.\u001b[39mx \u001b[39m-\u001b[39m q\u001b[39m.\u001b[39mx) \u001b[39m%\u001b[39m p\n\u001b[0;32m     20\u001b[0m y \u001b[39m=\u001b[39m (slope \u001b[39m*\u001b[39m (p\u001b[39m.\u001b[39mx \u001b[39m-\u001b[39m x) \u001b[39m-\u001b[39m p\u001b[39m.\u001b[39my) \u001b[39m%\u001b[39m p\n",
      "Cell \u001b[1;32mIn[15], line 7\u001b[0m, in \u001b[0;36mmod_inverse\u001b[1;34m(a, m)\u001b[0m\n\u001b[0;32m      5\u001b[0m \u001b[39mif\u001b[39;00m a \u001b[39m<\u001b[39m \u001b[39m0\u001b[39m:\n\u001b[0;32m      6\u001b[0m     a \u001b[39m=\u001b[39m a \u001b[39m%\u001b[39m m\n\u001b[1;32m----> 7\u001b[0m g, x, y \u001b[39m=\u001b[39m extended_gcd(a, m)\n\u001b[0;32m      8\u001b[0m \u001b[39mif\u001b[39;00m g \u001b[39m!=\u001b[39m \u001b[39m1\u001b[39m:\n\u001b[0;32m      9\u001b[0m     \u001b[39mraise\u001b[39;00m \u001b[39mValueError\u001b[39;00m(\u001b[39m\"\u001b[39m\u001b[39mModular inverse does not exist\u001b[39m\u001b[39m\"\u001b[39m)\n",
      "Cell \u001b[1;32mIn[15], line 15\u001b[0m, in \u001b[0;36mextended_gcd\u001b[1;34m(a, b)\u001b[0m\n\u001b[0;32m     13\u001b[0m \u001b[39mif\u001b[39;00m a \u001b[39m==\u001b[39m \u001b[39m0\u001b[39m:\n\u001b[0;32m     14\u001b[0m     \u001b[39mreturn\u001b[39;00m b, \u001b[39m0\u001b[39m, \u001b[39m1\u001b[39m\n\u001b[1;32m---> 15\u001b[0m gcd, x1, y1 \u001b[39m=\u001b[39m extended_gcd(b \u001b[39m%\u001b[39;49m a, a)\n\u001b[0;32m     16\u001b[0m x \u001b[39m=\u001b[39m y1 \u001b[39m-\u001b[39m (b \u001b[39m/\u001b[39m\u001b[39m/\u001b[39m a) \u001b[39m*\u001b[39m x1\n\u001b[0;32m     17\u001b[0m y \u001b[39m=\u001b[39m x1\n",
      "\u001b[1;31mTypeError\u001b[0m: unsupported operand type(s) for %: 'Point' and 'int'"
     ]
    }
   ],
   "source": [
    "# Point class for representing points on the elliptic curve\n",
    "class Point:\n",
    "    def __init__(self, x, y):\n",
    "        self.x = x\n",
    "        self.y = y\n",
    "\n",
    "# Elliptic curve addition\n",
    "def point_add(p, q):\n",
    "    if p is None:\n",
    "        return q\n",
    "    if q is None:\n",
    "        return p\n",
    "    if p.x == q.x and p.y != q.y:\n",
    "        return None\n",
    "    if p != q:\n",
    "        slope = (q.y - p.y) * mod_inverse(q.x - p.x, p)  # Use mod_inverse\n",
    "    else:\n",
    "        slope = (3 * p.x * p.x + a) * mod_inverse(2 * p.y, p)  # Use mod_inverse\n",
    "    x = (slope * slope - p.x - q.x) % p\n",
    "    y = (slope * (p.x - x) - p.y) % p\n",
    "    return Point(x, y)\n",
    "\n",
    "# Elliptic curve scalar multiplication with modular inverse\n",
    "def point_mult(k, p):\n",
    "    result = None\n",
    "    addend = p\n",
    "    while k:\n",
    "        if k & 1:\n",
    "            result = point_add(result, addend)\n",
    "        addend = point_add(addend, addend)\n",
    "        k >>= 1\n",
    "    return result\n",
    "\n",
    "# Generate private keys for Alice and Bob (random integers in the range [1, p-1])\n",
    "alice_private_key = 123456789\n",
    "bob_private_key = 987654321\n",
    "\n",
    "# Compute public keys for Alice and Bob\n",
    "alice_public_key = point_mult(alice_private_key, Point(Gx, Gy))\n",
    "bob_public_key = point_mult(bob_private_key, Point(Gx, Gy))\n",
    "\n",
    "# Compute shared secret for Alice and Bob\n",
    "shared_secret_alice = point_mult(alice_private_key, bob_public_key).x\n",
    "shared_secret_bob = point_mult(bob_private_key, alice_public_key).x\n",
    "\n",
    "print(\"Shared Secret (Alice):\", shared_secret_alice)\n",
    "print(\"Shared Secret (Bob):\", shared_secret_bob)"
   ]
  },
  {
   "cell_type": "code",
   "execution_count": 6,
   "metadata": {},
   "outputs": [],
   "source": [
    "\n",
    "# Elliptic curve scalar multiplication\n",
    "def point_mult(k, p):\n",
    "    result = None\n",
    "    addend = p\n",
    "    while k:\n",
    "        if k & 1:\n",
    "            result = point_add(result, addend)\n",
    "        addend = point_add(addend, addend)\n",
    "        k >>= 1\n",
    "    return result\n"
   ]
  },
  {
   "cell_type": "code",
   "execution_count": 7,
   "metadata": {},
   "outputs": [
    {
     "ename": "TypeError",
     "evalue": "unsupported operand type(s) for ** or pow(): 'int', 'int', 'Point'",
     "output_type": "error",
     "traceback": [
      "\u001b[1;31m---------------------------------------------------------------------------\u001b[0m",
      "\u001b[1;31mTypeError\u001b[0m                                 Traceback (most recent call last)",
      "Cell \u001b[1;32mIn[7], line 6\u001b[0m\n\u001b[0;32m      3\u001b[0m bob_private_key \u001b[39m=\u001b[39m \u001b[39m987654321\u001b[39m\n\u001b[0;32m      5\u001b[0m \u001b[39m# Compute public keys for Alice and Bob\u001b[39;00m\n\u001b[1;32m----> 6\u001b[0m alice_public_key \u001b[39m=\u001b[39m point_mult(alice_private_key, Point(Gx, Gy))\n\u001b[0;32m      7\u001b[0m bob_public_key \u001b[39m=\u001b[39m point_mult(bob_private_key, Point(Gx, Gy))\n\u001b[0;32m      9\u001b[0m \u001b[39m# Compute shared secret for Alice and Bob\u001b[39;00m\n",
      "Cell \u001b[1;32mIn[6], line 8\u001b[0m, in \u001b[0;36mpoint_mult\u001b[1;34m(k, p)\u001b[0m\n\u001b[0;32m      6\u001b[0m     \u001b[39mif\u001b[39;00m k \u001b[39m&\u001b[39m \u001b[39m1\u001b[39m:\n\u001b[0;32m      7\u001b[0m         result \u001b[39m=\u001b[39m point_add(result, addend)\n\u001b[1;32m----> 8\u001b[0m     addend \u001b[39m=\u001b[39m point_add(addend, addend)\n\u001b[0;32m      9\u001b[0m     k \u001b[39m>>\u001b[39m\u001b[39m=\u001b[39m \u001b[39m1\u001b[39m\n\u001b[0;32m     10\u001b[0m \u001b[39mreturn\u001b[39;00m result\n",
      "Cell \u001b[1;32mIn[5], line 18\u001b[0m, in \u001b[0;36mpoint_add\u001b[1;34m(p, q)\u001b[0m\n\u001b[0;32m     16\u001b[0m     slope \u001b[39m=\u001b[39m (q\u001b[39m.\u001b[39my \u001b[39m-\u001b[39m p\u001b[39m.\u001b[39my) \u001b[39m*\u001b[39m \u001b[39mpow\u001b[39m(q\u001b[39m.\u001b[39mx \u001b[39m-\u001b[39m p\u001b[39m.\u001b[39mx, \u001b[39m-\u001b[39m\u001b[39m1\u001b[39m, p)\n\u001b[0;32m     17\u001b[0m \u001b[39melse\u001b[39;00m:\n\u001b[1;32m---> 18\u001b[0m     slope \u001b[39m=\u001b[39m (\u001b[39m3\u001b[39m \u001b[39m*\u001b[39m p\u001b[39m.\u001b[39mx \u001b[39m*\u001b[39m p\u001b[39m.\u001b[39mx \u001b[39m+\u001b[39m a) \u001b[39m*\u001b[39m \u001b[39mpow\u001b[39;49m(\u001b[39m2\u001b[39;49m \u001b[39m*\u001b[39;49m p\u001b[39m.\u001b[39;49my, \u001b[39m-\u001b[39;49m\u001b[39m1\u001b[39;49m, p)\n\u001b[0;32m     19\u001b[0m x \u001b[39m=\u001b[39m (slope \u001b[39m*\u001b[39m slope \u001b[39m-\u001b[39m p\u001b[39m.\u001b[39mx \u001b[39m-\u001b[39m q\u001b[39m.\u001b[39mx) \u001b[39m%\u001b[39m p\n\u001b[0;32m     20\u001b[0m y \u001b[39m=\u001b[39m (slope \u001b[39m*\u001b[39m (p\u001b[39m.\u001b[39mx \u001b[39m-\u001b[39m x) \u001b[39m-\u001b[39m p\u001b[39m.\u001b[39my) \u001b[39m%\u001b[39m p\n",
      "\u001b[1;31mTypeError\u001b[0m: unsupported operand type(s) for ** or pow(): 'int', 'int', 'Point'"
     ]
    }
   ],
   "source": [
    "\n",
    "# Generate private keys for Alice and Bob (random integers in the range [1, p-1])\n",
    "alice_private_key = 123456789\n",
    "bob_private_key = 987654321\n",
    "\n",
    "# Compute public keys for Alice and Bob\n",
    "alice_public_key = point_mult(alice_private_key, Point(Gx, Gy))\n",
    "bob_public_key = point_mult(bob_private_key, Point(Gx, Gy))\n",
    "\n",
    "# Compute shared secret for Alice and Bob\n",
    "shared_secret_alice = point_mult(alice_private_key, bob_public_key)\n",
    "shared_secret_bob = point_mult(bob_private_key, alice_public_key)\n",
    "\n",
    "print(\"Shared Secret (Alice):\", shared_secret_alice.x)\n",
    "print(\"Shared Secret (Bob):\", shared_secret_bob.x)\n",
    "\n"
   ]
  },
  {
   "cell_type": "code",
   "execution_count": 3,
   "metadata": {},
   "outputs": [
    {
     "data": {
      "text/plain": [
       "39304"
      ]
     },
     "execution_count": 3,
     "metadata": {},
     "output_type": "execute_result"
    }
   ],
   "source": [
    "pow(34, 3)"
   ]
  },
  {
   "cell_type": "code",
   "execution_count": null,
   "metadata": {},
   "outputs": [],
   "source": []
  }
 ],
 "metadata": {
  "kernelspec": {
   "display_name": "Quanta",
   "language": "python",
   "name": "quanta"
  },
  "language_info": {
   "codemirror_mode": {
    "name": "ipython",
    "version": 3
   },
   "file_extension": ".py",
   "mimetype": "text/x-python",
   "name": "python",
   "nbconvert_exporter": "python",
   "pygments_lexer": "ipython3",
   "version": "3.11.4"
  },
  "orig_nbformat": 4
 },
 "nbformat": 4,
 "nbformat_minor": 2
}
