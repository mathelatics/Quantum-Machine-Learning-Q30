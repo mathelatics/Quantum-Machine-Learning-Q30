{
 "cells": [
  {
   "cell_type": "markdown",
   "metadata": {},
   "source": [
    "# Lab-13 : Simon's Algorithm"
   ]
  },
  {
   "cell_type": "code",
   "execution_count": 5,
   "metadata": {},
   "outputs": [],
   "source": [
    "from qiskit import QuantumCircuit, transpile\n",
    "from qiskit_aer import AerSimulator\n",
    "from qiskit import ClassicalRegister\n",
    "\n",
    "from qiskit.visualization import plot_histogram\n",
    "import qiskit.quantum_info as qi\n",
    "import numpy as np\n"
   ]
  },
  {
   "cell_type": "code",
   "execution_count": null,
   "metadata": {},
   "outputs": [],
   "source": []
  },
  {
   "cell_type": "code",
   "execution_count": 7,
   "metadata": {},
   "outputs": [
    {
     "data": {
      "image/png": "[encoded data removed]",
      "text/plain": [
       "<Figure size 305.525x1036.78 with 1 Axes>"
      ]
     },
     "execution_count": 7,
     "metadata": {},
     "output_type": "execute_result"
    }
   ],
   "source": [
    "\n",
    "def simon_circuit(s: str):\n",
    "    \"\"\"\n",
    "    Create a QuantumCircuit to query gate for Simon problem obeying the promise for the hidden string `s`\n",
    "    \"\"\"\n",
    "    # QuantumCircuit with 2N Qubits\n",
    "    N = len(s)\n",
    "    qc = QuantumCircuit(2*N)\n",
    "    \n",
    "    # Define a random permutation of all n bit strings.\n",
    "    pi = np.random.permutation(2**N)\n",
    "    \n",
    "    query_gate = np.zeros((4**N,4**N))\n",
    "    for x in range(2**N):\n",
    "        for y in range(2**N):              \n",
    "            z = y ^ pi[min(x,x ^ int(s,2))]\n",
    "            query_gate[x + 2**N *z, x + 2**N *y] = 1        \n",
    "\n",
    "    # add quary gate to our circuit\n",
    "    qc.unitary(query_gate,range(2*N))\n",
    "    return qc\n",
    "\n",
    "s = '101001'\n",
    "simon_circuit(s).draw(output='mpl')"
   ]
  },
  {
   "cell_type": "code",
   "execution_count": 13,
   "metadata": {},
   "outputs": [],
   "source": [
    "def simon_measurements(problem: QuantumCircuit, k: int):\n",
    "    \"\"\"\n",
    "    Quantum part of Simon's algorithm. Given a `QuantumCircuit` that\n",
    "    implements f, get `k` measurements to be post-processed later.\n",
    "    \"\"\"\n",
    "    N = problem.num_qubits // 2\n",
    "\n",
    "    qc = QuantumCircuit(2*N,N)\n",
    "    qc.h(range(N))\n",
    "    qc.compose(problem, inplace=True)\n",
    "    qc.h(range(N))\n",
    "    qc.measure(range(N), range(N))\n",
    "    \n",
    "    result = AerSimulator().run(qc,shots=k,memory=True).result()\n",
    "    return result.get_memory()"
   ]
  },
  {
   "cell_type": "code",
   "execution_count": 17,
   "metadata": {},
   "outputs": [
    {
     "data": {
      "text/plain": [
       "'measurement result  of the string : 101001'"
      ]
     },
     "metadata": {},
     "output_type": "display_data"
    },
    {
     "data": {
      "text/plain": [
       "['011111',\n",
       " '000110',\n",
       " '010100',\n",
       " '100001',\n",
       " '111110',\n",
       " '111010',\n",
       " '011101',\n",
       " '111000',\n",
       " '010110',\n",
       " '011111',\n",
       " '010010',\n",
       " '100001',\n",
       " '111010',\n",
       " '000010',\n",
       " '110001',\n",
       " '110101']"
      ]
     },
     "execution_count": 17,
     "metadata": {},
     "output_type": "execute_result"
    }
   ],
   "source": [
    "s = '101001'\n",
    "display(\"measurement result  of the string : 101001\")\n",
    "simon_measurements(simon_circuit(s), k = 16)"
   ]
  },
  {
   "cell_type": "code",
   "execution_count": 21,
   "metadata": {},
   "outputs": [
    {
     "ename": "TypeError",
     "evalue": "AerBackend.run() missing 1 required positional argument: 'circuits'",
     "output_type": "error",
     "traceback": [
      "\u001b[1;31m---------------------------------------------------------------------------\u001b[0m",
      "\u001b[1;31mTypeError\u001b[0m                                 Traceback (most recent call last)",
      "Cell \u001b[1;32mIn[21], line 1\u001b[0m\n\u001b[1;32m----> 1\u001b[0m results \u001b[39m=\u001b[39m AerSimulator\u001b[39m.\u001b[39;49mrun(simon_circuit(s))\u001b[39m.\u001b[39mresult()\n\u001b[0;32m      2\u001b[0m counts \u001b[39m=\u001b[39m results\u001b[39m.\u001b[39mget_counts()\n\u001b[0;32m      3\u001b[0m plot_histogram(counts)\n",
      "\u001b[1;31mTypeError\u001b[0m: AerBackend.run() missing 1 required positional argument: 'circuits'"
     ]
    }
   ],
   "source": [
    "results = AerSimulator.run(simon_circuit(s)).result()\n",
    "counts = results.get_counts()\n",
    "plot_histogram(counts)"
   ]
  },
  {
   "cell_type": "code",
   "execution_count": null,
   "metadata": {},
   "outputs": [],
   "source": []
  }
 ],
 "metadata": {
  "kernelspec": {
   "display_name": "Quanta",
   "language": "python",
   "name": "quanta"
  },
  "language_info": {
   "codemirror_mode": {
    "name": "ipython",
    "version": 3
   },
   "file_extension": ".py",
   "mimetype": "text/x-python",
   "name": "python",
   "nbconvert_exporter": "python",
   "pygments_lexer": "ipython3",
   "version": "3.11.4"
  },
  "orig_nbformat": 4
 },
 "nbformat": 4,
 "nbformat_minor": 2
}
